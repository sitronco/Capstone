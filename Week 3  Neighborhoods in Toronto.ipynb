{
    "nbformat_minor": 1, 
    "cells": [
        {
            "source": "Importanting Packges", 
            "cell_type": "markdown", 
            "metadata": {
                "collapsed": true
            }
        }, 
        {
            "execution_count": 1, 
            "cell_type": "code", 
            "metadata": {}, 
            "outputs": [
                {
                    "output_type": "stream", 
                    "name": "stdout", 
                    "text": "1. python packages imported\n"
                }
            ], 
            "source": "import numpy  as np\nimport pandas as pd\nimport requests\nfrom bs4 import BeautifulSoup\nprint('1. python packages imported')"
        }, 
        {
            "source": "Importing data from Wikepedia", 
            "cell_type": "markdown", 
            "metadata": {}
        }, 
        {
            "execution_count": 2, 
            "cell_type": "code", 
            "metadata": {}, 
            "outputs": [
                {
                    "output_type": "stream", 
                    "name": "stdout", 
                    "text": "2. html page extracted\n"
                }
            ], 
            "source": "page_url = 'https://en.wikipedia.org/wiki/List_of_postal_codes_of_Canada:_M'\nresponse = requests.get(page_url)\nhtml_doc = response.text\nsoup_doc = BeautifulSoup(html_doc, 'lxml')\nprint('2. html page extracted')"
        }, 
        {
            "source": "Creating Dataframe", 
            "cell_type": "markdown", 
            "metadata": {}
        }, 
        {
            "execution_count": 3, 
            "cell_type": "code", 
            "metadata": {}, 
            "outputs": [
                {
                    "output_type": "stream", 
                    "name": "stdout", 
                    "text": "3.1. neighborhood table extracted\n3.2. neighborhoods dataframe built.\n"
                }
            ], 
            "source": "neigh_html_table = soup_doc.find('table', {'class': 'wikitable sortable'})\nprint('3.1. neighborhood table extracted')\n\n# build neighborhoods dataframe.\nneighborhoods = []\nfor row in neigh_html_table.find_all('tr'):\n        cols = row.find_all('td')\n        if len(cols) == 3:\n            neighborhoods.append((cols[0].text.strip(), cols[1].text.strip(), cols[2].text.strip()))\nneigh_df = pd.DataFrame(np.asarray(neighborhoods))\nneigh_df.columns = ['PostalCode', 'Borough', 'Neighborhood']\nprint('3.2. neighborhoods dataframe built.')"
        }, 
        {
            "execution_count": null, 
            "cell_type": "code", 
            "metadata": {}, 
            "outputs": [], 
            "source": ""
        }
    ], 
    "metadata": {
        "kernelspec": {
            "display_name": "Python 3.5", 
            "name": "python3", 
            "language": "python"
        }, 
        "language_info": {
            "mimetype": "text/x-python", 
            "nbconvert_exporter": "python", 
            "version": "3.5.5", 
            "name": "python", 
            "file_extension": ".py", 
            "pygments_lexer": "ipython3", 
            "codemirror_mode": {
                "version": 3, 
                "name": "ipython"
            }
        }
    }, 
    "nbformat": 4
}